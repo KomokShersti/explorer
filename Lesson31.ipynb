{
 "cells": [
  {
   "cell_type": "markdown",
   "id": "b1bafbc6",
   "metadata": {},
   "source": [
    "Реализовать прототип консольной программы - проводника, для работы с файлами. Создать функции создания, удаления, перемещения, копирования(файла, папки) с использованием системы контроля версий git. Зарегистрироваться на Github и выгрузить с помощью git программу в созданный репозиторий. Прикрепить ссылку на репозиторий."
   ]
  },
  {
   "cell_type": "code",
   "execution_count": 14,
   "id": "4ae74fb4",
   "metadata": {},
   "outputs": [],
   "source": [
    "import os\n",
    "#функция для создания пустого файла\n",
    "def create_file(file_path):\n",
    "    try:\n",
    "        with open(file_path, 'x'):\n",
    "            print('Создан файл: ', os.path.abspath(file_path))\n",
    "    except FileExistsError:\n",
    "        print(\"Файл уже существует\")\n",
    "\n",
    "#функция для создания пустого каталога\n",
    "def create_dir(dir_path):\n",
    "    try:\n",
    "        os.makedirs(dir_path)\n",
    "        print('Создан каталог: ', os.path.abspath(dir_path))\n",
    "    except FileExistsError:\n",
    "        print('Каталог уже существует')\n",
    "        \n",
    "#функция удаления файла\n",
    "def delete_file(file_path):\n",
    "    if os.path.exists(file_path):\n",
    "        if os.path.isfile(file_path):\n",
    "            try:\n",
    "                os.remove(file_path)\n",
    "                print('Файл удален')\n",
    "            #не достаточно прав или файл занят\n",
    "            except PermissionError as err:\n",
    "                print('Удаление отменено.')\n",
    "                print(err)\n",
    "        else:\n",
    "            print('Это каталог, а не файл. Удаление отменено')\n",
    "    else:\n",
    "        print('Файл не найден')\n",
    "\n",
    "#функция удаления пустого каталога\n",
    "def delete_dir(dir_path):\n",
    "    if os.path.exists(dir_path):\n",
    "        if os.path.isdir(dir_path):\n",
    "            try:\n",
    "                os.rmdir(dir_path)\n",
    "                print('Каталог удален')\n",
    "            except OSError as err:\n",
    "                print('Каталог содержит данные. Удаление отменено')\n",
    "            #не достаточно прав\n",
    "            except PermissionError as err:\n",
    "                print('Удаление отменено.')\n",
    "                print(err)\n",
    "        else:\n",
    "            print('Это файл, а не каталог. Удаление отменено')\n",
    "    else:\n",
    "        print('Каталог не найден')\n",
    "    \n",
    "\n"
   ]
  },
  {
   "cell_type": "code",
   "execution_count": 21,
   "id": "4afee97d",
   "metadata": {},
   "outputs": [
    {
     "name": "stdout",
     "output_type": "stream",
     "text": [
      "Создан каталог:  C:\\Users\\Komok\\python_files\\homeworks\\test_dir1\\hello\n"
     ]
    }
   ],
   "source": [
    "create_dir('test_dir1/hello')"
   ]
  },
  {
   "cell_type": "code",
   "execution_count": null,
   "id": "19529cca",
   "metadata": {},
   "outputs": [],
   "source": [
    "os.listdir()"
   ]
  },
  {
   "cell_type": "code",
   "execution_count": 23,
   "id": "1e52b6ff",
   "metadata": {},
   "outputs": [
    {
     "name": "stdout",
     "output_type": "stream",
     "text": [
      "Файл не найден\n"
     ]
    }
   ],
   "source": [
    "delete_file(r'test_di')"
   ]
  },
  {
   "cell_type": "code",
   "execution_count": 22,
   "id": "0d5551ae",
   "metadata": {},
   "outputs": [
    {
     "name": "stdout",
     "output_type": "stream",
     "text": [
      "Каталог содержит данные. Удаление отменено\n"
     ]
    }
   ],
   "source": [
    "delete_dir('test_dir1')"
   ]
  },
  {
   "cell_type": "code",
   "execution_count": null,
   "id": "fd69894e",
   "metadata": {},
   "outputs": [],
   "source": []
  }
 ],
 "metadata": {
  "kernelspec": {
   "display_name": "Python 3 (ipykernel)",
   "language": "python",
   "name": "python3"
  },
  "language_info": {
   "codemirror_mode": {
    "name": "ipython",
    "version": 3
   },
   "file_extension": ".py",
   "mimetype": "text/x-python",
   "name": "python",
   "nbconvert_exporter": "python",
   "pygments_lexer": "ipython3",
   "version": "3.11.5"
  }
 },
 "nbformat": 4,
 "nbformat_minor": 5
}
