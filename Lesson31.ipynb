{
 "cells": [
  {
   "cell_type": "code",
   "execution_count": 21,
   "id": "4ae74fb4",
   "metadata": {},
   "outputs": [],
   "source": [
    "import os\n",
    "#функция для создания пустого файла\n",
    "def create_file(file_path):\n",
    "    try:\n",
    "        with open(file_path, 'x'):\n",
    "            print('Создан файл: ', os.path.abspath(file_path))\n",
    "    except FileExistsError:\n",
    "        print(\"Файл уже существует\")\n",
    "#функция для создания пустого каталога\n",
    "def create_dir(dir_path):\n",
    "    try:\n",
    "        os.mkdir(dir_path)\n",
    "        print('Создан каталог: ', os.path.abspath(dir_path))\n",
    "    except FileExistsError:\n",
    "        print('Каталог уже существует')\n",
    "    "
   ]
  },
  {
   "cell_type": "code",
   "execution_count": 24,
   "id": "4afee97d",
   "metadata": {},
   "outputs": [
    {
     "name": "stdout",
     "output_type": "stream",
     "text": [
      "Каталог уже существует\n"
     ]
    }
   ],
   "source": [
    "create_dir('test_dir1')"
   ]
  },
  {
   "cell_type": "code",
   "execution_count": null,
   "id": "19529cca",
   "metadata": {},
   "outputs": [],
   "source": []
  }
 ],
 "metadata": {
  "kernelspec": {
   "display_name": "Python 3 (ipykernel)",
   "language": "python",
   "name": "python3"
  },
  "language_info": {
   "codemirror_mode": {
    "name": "ipython",
    "version": 3
   },
   "file_extension": ".py",
   "mimetype": "text/x-python",
   "name": "python",
   "nbconvert_exporter": "python",
   "pygments_lexer": "ipython3",
   "version": "3.11.5"
  }
 },
 "nbformat": 4,
 "nbformat_minor": 5
}
