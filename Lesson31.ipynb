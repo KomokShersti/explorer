{
 "cells": [
  {
   "cell_type": "code",
   "execution_count": 13,
   "id": "e8c684ae",
   "metadata": {},
   "outputs": [],
   "source": [
    "import os\n",
    "#функция для отображения содержимого каталога\n",
    "def create_file(file_path):\n",
    "    try:\n",
    "        with open(file_path, 'x'):\n",
    "            print('Создан файл: ', os.path.abspath(file_path))\n",
    "    except FileExistsError as err:\n",
    "        print(\"Файл уже существует\")"
   ]
  },
  {
   "cell_type": "code",
   "execution_count": 16,
   "id": "e2077d04",
   "metadata": {},
   "outputs": [
    {
     "name": "stdout",
     "output_type": "stream",
     "text": [
      "Файл уже существует\n"
     ]
    }
   ],
   "source": [
    "create_file('ttt1.txt')"
   ]
  },
  {
   "cell_type": "code",
   "execution_count": null,
   "id": "e621c65f",
   "metadata": {},
   "outputs": [],
   "source": []
  }
 ],
 "metadata": {
  "kernelspec": {
   "display_name": "Python 3 (ipykernel)",
   "language": "python",
   "name": "python3"
  },
  "language_info": {
   "codemirror_mode": {
    "name": "ipython",
    "version": 3
   },
   "file_extension": ".py",
   "mimetype": "text/x-python",
   "name": "python",
   "nbconvert_exporter": "python",
   "pygments_lexer": "ipython3",
   "version": "3.11.5"
  }
 },
 "nbformat": 4,
 "nbformat_minor": 5
}
