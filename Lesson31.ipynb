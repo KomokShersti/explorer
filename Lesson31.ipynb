{
 "cells": [
  {
   "cell_type": "markdown",
   "id": "7a90d78a",
   "metadata": {},
   "source": [
    "Реализовать прототип консольной программы - проводника, для работы с файлами. Создать функции создания, удаления, перемещения, копирования(файла, папки) с использованием системы контроля версий git. Зарегистрироваться на Github и выгрузить с помощью git программу в созданный репозиторий. Прикрепить ссылку на репозиторий."
   ]
  },
  {
   "cell_type": "code",
   "execution_count": 69,
   "id": "4ae74fb4",
   "metadata": {},
   "outputs": [],
   "source": [
    "import os\n",
    "#функция для создания пустого файла\n",
    "def create_file(file_path):\n",
    "    try:\n",
    "        with open(file_path, 'x'):\n",
    "            print('Создан файл: ', os.path.abspath(file_path))\n",
    "    except FileExistsError:\n",
    "        print(\"Файл уже существует\")\n",
    "    except OSError:\n",
    "        print('Не удалось создать файл. Возможно, были использованы запрещенные символы')\n",
    "\n",
    "#функция для создания пустого каталога\n",
    "def create_dir(dir_path):\n",
    "    try:\n",
    "        os.makedirs(dir_path)\n",
    "        print('Создан каталог: ', os.path.abspath(dir_path))\n",
    "    except FileExistsError:\n",
    "        print('Каталог уже существует')\n",
    "    except OSError:\n",
    "        print('Не удалось создать каталог. Возможно, были использованы запрещенные символы')\n",
    "        \n",
    "#функция удаления файла\n",
    "def delete_file(file_path):\n",
    "    if os.path.exists(file_path):\n",
    "        if os.path.isfile(file_path):\n",
    "            try:\n",
    "                os.remove(file_path)\n",
    "                print('Файл удален')\n",
    "            #не достаточно прав или файл занят\n",
    "            except PermissionError as err:\n",
    "                print('Удаление отменено.')\n",
    "                print(err)\n",
    "        else:\n",
    "            print('Это каталог, а не файл. Удаление отменено')\n",
    "    else:\n",
    "        print('Файл не найден')\n",
    "\n",
    "#функция удаления пустого каталога\n",
    "def delete_dir(dir_path):\n",
    "    if os.path.exists(dir_path):\n",
    "        if os.path.isdir(dir_path):\n",
    "            try:\n",
    "                os.rmdir(dir_path)\n",
    "                print('Каталог удален')\n",
    "            except OSError as err:\n",
    "                print('Каталог содержит данные. Удаление отменено')\n",
    "            #не достаточно прав\n",
    "            except PermissionError as err:\n",
    "                print('Удаление отменено.')\n",
    "                print(err)\n",
    "        else:\n",
    "            print('Это файл, а не каталог. Удаление отменено')\n",
    "    else:\n",
    "        print('Каталог не найден')\n",
    "        \n",
    "def move(old_path, new_path):\n",
    "    try:\n",
    "        if not os.path.exists(old_path):\n",
    "            print('Нечего перемещать, файл или каталог не существует:', old_path)\n",
    "        #если новое имя - каталог, то перемещаем старый каталог/файл в него с сохранением имени \n",
    "        elif os.path.isdir(new_path):\n",
    "            os.rename(old_path, os.path.join(new_path, os.path.basename(old_path)))\n",
    "        #если новое имя уже занято файлом\n",
    "        elif os.path.isfile(new_path):\n",
    "            print('Перемещение отменено, т.к. указанное имя занято файлом:', new_path)\n",
    "        else:\n",
    "            os.rename(old_path, new_path)\n",
    "    except OSError:\n",
    "        print('Не удалось создать файл. Возможно, были использованы запрещенные символы')\n",
    "    #не достаточно прав или файл занят\n",
    "    except PermissionError as err:\n",
    "        print('Перемещение отменено.')\n",
    "        print(err)\n",
    "\n",
    "        \n",
    "    \n",
    "\n"
   ]
  },
  {
   "cell_type": "code",
   "execution_count": 55,
   "id": "074d7909",
   "metadata": {},
   "outputs": [
    {
     "name": "stdout",
     "output_type": "stream",
     "text": [
      "say hello: test_dir\n"
     ]
    },
    {
     "ename": "FileExistsError",
     "evalue": "[WinError 183] Невозможно создать файл, так как он уже существует: '1' -> 'test_dir'",
     "output_type": "error",
     "traceback": [
      "\u001b[1;31m---------------------------------------------------------------------------\u001b[0m",
      "\u001b[1;31mFileExistsError\u001b[0m                           Traceback (most recent call last)",
      "Cell \u001b[1;32mIn[55], line 2\u001b[0m\n\u001b[0;32m      1\u001b[0m q \u001b[38;5;241m=\u001b[39m \u001b[38;5;28minput\u001b[39m(\u001b[38;5;124m'\u001b[39m\u001b[38;5;124msay hello: \u001b[39m\u001b[38;5;124m'\u001b[39m)\n\u001b[1;32m----> 2\u001b[0m os\u001b[38;5;241m.\u001b[39mrename(\u001b[38;5;124m'\u001b[39m\u001b[38;5;124m1\u001b[39m\u001b[38;5;124m'\u001b[39m, q)\n",
      "\u001b[1;31mFileExistsError\u001b[0m: [WinError 183] Невозможно создать файл, так как он уже существует: '1' -> 'test_dir'"
     ]
    }
   ],
   "source": [
    "q = input('say hello: ')\n",
    "os.rename('1', q)"
   ]
  },
  {
   "cell_type": "code",
   "execution_count": 57,
   "id": "31bba0bd",
   "metadata": {},
   "outputs": [
    {
     "name": "stdout",
     "output_type": "stream",
     "text": [
      "say hello: dfs\n"
     ]
    },
    {
     "ename": "FileNotFoundError",
     "evalue": "[WinError 2] Не удается найти указанный файл: '1e' -> 'dffd'",
     "output_type": "error",
     "traceback": [
      "\u001b[1;31m---------------------------------------------------------------------------\u001b[0m",
      "\u001b[1;31mFileNotFoundError\u001b[0m                         Traceback (most recent call last)",
      "Cell \u001b[1;32mIn[57], line 2\u001b[0m\n\u001b[0;32m      1\u001b[0m q \u001b[38;5;241m=\u001b[39m \u001b[38;5;28minput\u001b[39m(\u001b[38;5;124m'\u001b[39m\u001b[38;5;124msay hello: \u001b[39m\u001b[38;5;124m'\u001b[39m)\n\u001b[1;32m----> 2\u001b[0m os\u001b[38;5;241m.\u001b[39mrename(\u001b[38;5;124m'\u001b[39m\u001b[38;5;124m1e\u001b[39m\u001b[38;5;124m'\u001b[39m, \u001b[38;5;124m'\u001b[39m\u001b[38;5;124mdffd\u001b[39m\u001b[38;5;124m'\u001b[39m)\n",
      "\u001b[1;31mFileNotFoundError\u001b[0m: [WinError 2] Не удается найти указанный файл: '1e' -> 'dffd'"
     ]
    }
   ],
   "source": [
    "q = input('say hello: ')\n",
    "os.rename('1e', 'dffd')"
   ]
  },
  {
   "cell_type": "code",
   "execution_count": 59,
   "id": "06875e15",
   "metadata": {},
   "outputs": [
    {
     "name": "stdout",
     "output_type": "stream",
     "text": [
      "say hello: kj\n"
     ]
    },
    {
     "ename": "FileExistsError",
     "evalue": "[WinError 183] Невозможно создать файл, так как он уже существует: '1' -> 'test_dir/'",
     "output_type": "error",
     "traceback": [
      "\u001b[1;31m---------------------------------------------------------------------------\u001b[0m",
      "\u001b[1;31mFileExistsError\u001b[0m                           Traceback (most recent call last)",
      "Cell \u001b[1;32mIn[59], line 2\u001b[0m\n\u001b[0;32m      1\u001b[0m q \u001b[38;5;241m=\u001b[39m \u001b[38;5;28minput\u001b[39m(\u001b[38;5;124m'\u001b[39m\u001b[38;5;124msay hello: \u001b[39m\u001b[38;5;124m'\u001b[39m)\n\u001b[1;32m----> 2\u001b[0m os\u001b[38;5;241m.\u001b[39mrename(\u001b[38;5;124m'\u001b[39m\u001b[38;5;124m1\u001b[39m\u001b[38;5;124m'\u001b[39m, \u001b[38;5;124m'\u001b[39m\u001b[38;5;124mtest_dir/\u001b[39m\u001b[38;5;124m'\u001b[39m)\n",
      "\u001b[1;31mFileExistsError\u001b[0m: [WinError 183] Невозможно создать файл, так как он уже существует: '1' -> 'test_dir/'"
     ]
    }
   ],
   "source": [
    "#q = input('say hello: ')\n",
    "os.rename('1', 'test_dir/')"
   ]
  },
  {
   "cell_type": "code",
   "execution_count": 30,
   "id": "e510e7e9",
   "metadata": {},
   "outputs": [
    {
     "name": "stdout",
     "output_type": "stream",
     "text": [
      "Не удалось создать файл. Возможно, были использованы запрещенные символы\n"
     ]
    }
   ],
   "source": [
    "create_file('tjt*.txt')"
   ]
  },
  {
   "cell_type": "code",
   "execution_count": 28,
   "id": "baadb9aa",
   "metadata": {},
   "outputs": [
    {
     "ename": "OSError",
     "evalue": "[WinError 123] Синтаксическая ошибка в имени файла, имени папки или метке тома: 'dfd*kd'",
     "output_type": "error",
     "traceback": [
      "\u001b[1;31m---------------------------------------------------------------------------\u001b[0m",
      "\u001b[1;31mOSError\u001b[0m                                   Traceback (most recent call last)",
      "Cell \u001b[1;32mIn[28], line 1\u001b[0m\n\u001b[1;32m----> 1\u001b[0m create_dir(\u001b[38;5;124m'\u001b[39m\u001b[38;5;124mdfd*kd\u001b[39m\u001b[38;5;124m'\u001b[39m)\n",
      "Cell \u001b[1;32mIn[14], line 13\u001b[0m, in \u001b[0;36mcreate_dir\u001b[1;34m(dir_path)\u001b[0m\n\u001b[0;32m     11\u001b[0m \u001b[38;5;28;01mdef\u001b[39;00m \u001b[38;5;21mcreate_dir\u001b[39m(dir_path):\n\u001b[0;32m     12\u001b[0m     \u001b[38;5;28;01mtry\u001b[39;00m:\n\u001b[1;32m---> 13\u001b[0m         os\u001b[38;5;241m.\u001b[39mmakedirs(dir_path)\n\u001b[0;32m     14\u001b[0m         \u001b[38;5;28mprint\u001b[39m(\u001b[38;5;124m'\u001b[39m\u001b[38;5;124mСоздан каталог: \u001b[39m\u001b[38;5;124m'\u001b[39m, os\u001b[38;5;241m.\u001b[39mpath\u001b[38;5;241m.\u001b[39mabspath(dir_path))\n\u001b[0;32m     15\u001b[0m     \u001b[38;5;28;01mexcept\u001b[39;00m \u001b[38;5;167;01mFileExistsError\u001b[39;00m:\n",
      "File \u001b[1;32m<frozen os>:225\u001b[0m, in \u001b[0;36mmakedirs\u001b[1;34m(name, mode, exist_ok)\u001b[0m\n",
      "\u001b[1;31mOSError\u001b[0m: [WinError 123] Синтаксическая ошибка в имени файла, имени папки или метке тома: 'dfd*kd'"
     ]
    }
   ],
   "source": [
    "create_dir('dfd*kd')"
   ]
  },
  {
   "cell_type": "code",
   "execution_count": 63,
   "id": "5255149b",
   "metadata": {},
   "outputs": [
    {
     "data": {
      "text/plain": [
       "'test_dr'"
      ]
     },
     "execution_count": 63,
     "metadata": {},
     "output_type": "execute_result"
    }
   ],
   "source": [
    "os.path.basename('../homeworks/test_dr')"
   ]
  },
  {
   "cell_type": "code",
   "execution_count": 64,
   "id": "50e3605c",
   "metadata": {},
   "outputs": [
    {
     "data": {
      "text/plain": [
       "'hello\\\\world'"
      ]
     },
     "execution_count": 64,
     "metadata": {},
     "output_type": "execute_result"
    }
   ],
   "source": [
    "os.path.join('hello','world')"
   ]
  },
  {
   "cell_type": "code",
   "execution_count": 74,
   "id": "5eabc9e6",
   "metadata": {},
   "outputs": [],
   "source": [
    "move('test_dir1','test_dir')"
   ]
  },
  {
   "cell_type": "code",
   "execution_count": null,
   "id": "520fb813",
   "metadata": {},
   "outputs": [],
   "source": []
  }
 ],
 "metadata": {
  "kernelspec": {
   "display_name": "Python 3 (ipykernel)",
   "language": "python",
   "name": "python3"
  },
  "language_info": {
   "codemirror_mode": {
    "name": "ipython",
    "version": 3
   },
   "file_extension": ".py",
   "mimetype": "text/x-python",
   "name": "python",
   "nbconvert_exporter": "python",
   "pygments_lexer": "ipython3",
   "version": "3.11.5"
  }
 },
 "nbformat": 4,
 "nbformat_minor": 5
}
